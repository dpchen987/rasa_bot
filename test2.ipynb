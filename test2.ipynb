{
 "cells": [
  {
   "cell_type": "code",
   "execution_count": 2,
   "metadata": {},
   "outputs": [],
   "source": [
    "import requests\n",
    "from pprint import pprint"
   ]
  },
  {
   "cell_type": "code",
   "execution_count": 105,
   "metadata": {},
   "outputs": [
    {
     "name": "stdout",
     "output_type": "stream",
     "text": [
      "[{'api_exception': 0,\n",
      "  'last_message': {'confidence': 0.3436,\n",
      "                   'exact_hit': False,\n",
      "                   'input_channel': 'callassist',\n",
      "                   'intent_name': 'inform',\n",
      "                   'slots': {},\n",
      "                   'text': '免贵姓黄，我是极兔，寄的风扇',\n",
      "                   'top2_diff': 0.3062},\n",
      "  'recipient_id': 'tsvu4888658x',\n",
      "  'story': 'faq'}]\n"
     ]
    }
   ],
   "source": [
    "url = 'http://localhost:5006/webhooks/callassist/webhook'\n",
    "data = {\n",
    "  \"sender\": \"tsvu4888658x\",  \n",
    "  # \"message\": \"servicer：你的电话说下\"\n",
    "  # \"message\": \"servicer：好的，还有其他问题吗\"\n",
    "  # \"message\": \"我的快递查一下\"\n",
    "  # \"message\": \"你好，我的快递什么时候到啊, 1623454\"\n",
    "  # \"message\": \"这个寄的是什么,中通比你们好多了\"\n",
    "  # \"message\": \"白酒,发件方：是 王先生1234567890123456780\"\n",
    "  # \"message\": \"yt1850\"\n",
    "  \"message\": \"免贵姓黄，我是极兔，寄的风扇\"\n",
    "  # \"message\": \"1234\"\n",
    "  # \"message\": \"五六七八九零一二三四\"\n",
    "  # \"message\": \"53698 yt 1850850729053\"\n",
    "  # ,\"metadata\" :{'express_id':\"YT1234567890125\"}\n",
    "}\n",
    "res = requests.post(url, json=data)\n",
    "# pprint(res.text)yt1850850729053\n",
    "d = res.json()\n",
    "pprint(d)"
   ]
  },
  {
   "cell_type": "code",
   "execution_count": 10,
   "metadata": {},
   "outputs": [
    {
     "data": {
      "text/plain": [
       "{'event': 'action',\n",
       " 'name': 'action_listen',\n",
       " 'policy': None,\n",
       " 'confidence': None,\n",
       " 'timestamp': None}"
      ]
     },
     "execution_count": 10,
     "metadata": {},
     "output_type": "execute_result"
    }
   ],
   "source": [
    "from rasa_sdk.events import (\n",
    "    ActionExecuted,\n",
    "    SlotSet,\n",
    "    SessionStarted,\n",
    ")\n",
    "\n",
    "evt = SlotSet(key = \"name\", value = \"Mary\")\n",
    "evt = ActionExecuted('action_listen')\n",
    "\n",
    "evt"
   ]
  },
  {
   "cell_type": "code",
   "execution_count": 68,
   "metadata": {},
   "outputs": [
    {
     "name": "stdout",
     "output_type": "stream",
     "text": [
      "<Response [200]>\n",
      "[{'recipient_id': 'tstx1c4g056465', 'text': '标准话术执行率：90%'},\n",
      " {'recipient_id': 'tstx1c4g056465', 'text': '违规话术识别：无违规话术'},\n",
      " {'api_exception': 0,\n",
      "  'last_message': {'confidence': 0.2996,\n",
      "                   'exact_hit': False,\n",
      "                   'input_channel': 'callassist',\n",
      "                   'intent_name': 'predict_call_end',\n",
      "                   'slots': {},\n",
      "                   'text': '模型文本是没有什么，这是模型文本',\n",
      "                   'top2_diff': 0.0819},\n",
      "  'recipient_id': 'tstx1c4g056465',\n",
      "  'story': 'faq'}]\n"
     ]
    }
   ],
   "source": [
    "# url = 'http://10.130.118.125:5005/webhooks/wdgj/webhook'\n",
    "url = 'http://10.130.118.125:5006/webhooks/callassist/webhook'\n",
    "# url = 'http://10.7.132.200:5006/webhooks/callassist/webhook'\n",
    "data = {\n",
    "  \"sender\": \"tstx1c4g056465\",  \n",
    "  # \"message\": \"servicer：嗯，74541354\"\n",
    "  # \"message\": \"servicer：没有什么\"\n",
    "  # \"message\": \"免贵姓黄，我想问一下\"\n",
    "  # \"message\": \"呃这个单号8960357027501\"\n",
    "  # \"message\": \"呃如果是一个件退回，可能是有问题，如果两个件都退回了的话，我们需要帮您去核实到底是哪里出了问题，尽快给您处理，给您回电啊。\"\n",
    "  # \"message\": \"2345\"\n",
    "  # \"message\": \"53698 yt 2515619553698\"\n",
    "  # \"message\": \"呃这个白酒,发件方：是 王先生1234567890123456780\"\n",
    "  # ,\"metadata\" :{'express_id':\"YT1234567890123\"}\n",
    "}\n",
    "res = requests.post(url, json=data)\n",
    "pprint(res)\n",
    "# pprint(res.text)\n",
    "d = res.json()\n",
    "pprint(d)"
   ]
  },
  {
   "cell_type": "code",
   "execution_count": 35,
   "metadata": {},
   "outputs": [],
   "source": [
    "import re\n",
    "repat_numbers = re.compile(r\"[零令林一幺妖二两三四五六七八九]{3,}\")"
   ]
  },
  {
   "cell_type": "code",
   "execution_count": 86,
   "metadata": {},
   "outputs": [
    {
     "name": "stdout",
     "output_type": "stream",
     "text": [
      "二三九\n"
     ]
    }
   ],
   "source": [
    "mt = repat_numbers.search(\"二三九\")\n",
    "print(mt.group())"
   ]
  },
  {
   "cell_type": "code",
   "execution_count": 275,
   "metadata": {},
   "outputs": [
    {
     "name": "stdout",
     "output_type": "stream",
     "text": [
      "<re.Match object; span=(0, 9), match='183 九45 6'>\n"
     ]
    }
   ],
   "source": [
    "import re\n",
    "repat_numbers = re.compile(\"[1幺妖][3-9三四五六七八九][\\d 零令林一幺妖二两三四五六七八九]{,9}\")\n",
    "mt = repat_numbers.search(\"183 九45 6\")\n",
    "print(mt)"
   ]
  },
  {
   "cell_type": "code",
   "execution_count": 57,
   "metadata": {},
   "outputs": [
    {
     "name": "stdout",
     "output_type": "stream",
     "text": [
      "<re.Match object; span=(3, 7), match='q  w'>\n"
     ]
    },
    {
     "data": {
      "text/plain": [
       "<re.Match object; span=(0, 13), match='1234567890123'>"
      ]
     },
     "execution_count": 57,
     "metadata": {},
     "output_type": "execute_result"
    }
   ],
   "source": [
    "print(re.search('q\\s+w', 'dddq  wer'))\n",
    "express_id_pat4 = re.compile(\"(?<!\\\\d)\\\\d{13}(?!\\\\d)\")\n",
    "express_id_pat4.search('1234567890123')"
   ]
  },
  {
   "cell_type": "markdown",
   "metadata": {},
   "source": [
    "''"
   ]
  },
  {
   "cell_type": "markdown",
   "metadata": {},
   "source": [
    "n\t普通名词\tf\t方位名词\ts\t处所名词\tt\t时间\n",
    "nr\t人名\tns\t地名\tnt\t机构名\tnw\t作品名\n",
    "nz\t其他专名\tv\t普通动词\tvd\t动副词\tvn\t名动词\n",
    "a\t形容词\tad\t副形词\tan\t名形词\td\t副词\n",
    "m\t数量词\tq\t量词\tr\t代词\tp\t介词\n",
    "c\t连词\tu\t助词\txc\t其他虚词\tw\t标点符号\n",
    "PER\t人名\tLOC\t地名\tORG\t机构名\tTIME\t时间"
   ]
  },
  {
   "cell_type": "code",
   "execution_count": 64,
   "metadata": {},
   "outputs": [],
   "source": [
    "import jieba\n",
    "import jieba.posseg as pseg"
   ]
  },
  {
   "cell_type": "code",
   "execution_count": 67,
   "metadata": {},
   "outputs": [
    {
     "data": {
      "text/plain": [
       "[pair('免', 'v'),\n",
       " pair('贵姓', 'n'),\n",
       " pair('黄', 'a'),\n",
       " pair('，', 'x'),\n",
       " pair('我', 'r'),\n",
       " pair('想', 'v'),\n",
       " pair('问', 'v'),\n",
       " pair('一下', 'm')]"
      ]
     },
     "execution_count": 67,
     "metadata": {},
     "output_type": "execute_result"
    }
   ],
   "source": [
    "pseg.lcut('免贵姓黄，我想问一下')"
   ]
  },
  {
   "cell_type": "code",
   "execution_count": 27,
   "metadata": {},
   "outputs": [
    {
     "name": "stdout",
     "output_type": "stream",
     "text": [
      "4\n",
      "3\n",
      "2\n"
     ]
    },
    {
     "data": {
      "text/plain": [
       "[2, 3, 4]"
      ]
     },
     "execution_count": 27,
     "metadata": {},
     "output_type": "execute_result"
    }
   ],
   "source": [
    "for i in range(4, 1, -1):\n",
    "    print(i)\n",
    "ls = [1,2,3,4]\n",
    "ls[-3:]"
   ]
  },
  {
   "cell_type": "code",
   "execution_count": 80,
   "metadata": {},
   "outputs": [
    {
     "data": {
      "text/plain": [
       "['3', '3', '3']"
      ]
     },
     "execution_count": 80,
     "metadata": {},
     "output_type": "execute_result"
    }
   ],
   "source": [
    "import re\n",
    "re.findall('3', '333')"
   ]
  }
 ],
 "metadata": {
  "kernelspec": {
   "display_name": "base",
   "language": "python",
   "name": "python3"
  },
  "language_info": {
   "codemirror_mode": {
    "name": "ipython",
    "version": 3
   },
   "file_extension": ".py",
   "mimetype": "text/x-python",
   "name": "python",
   "nbconvert_exporter": "python",
   "pygments_lexer": "ipython3",
   "version": "3.9.18"
  }
 },
 "nbformat": 4,
 "nbformat_minor": 2
}
