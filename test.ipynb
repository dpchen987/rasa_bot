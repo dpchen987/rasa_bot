{
 "cells": [
  {
   "cell_type": "code",
   "execution_count": 2,
   "metadata": {},
   "outputs": [],
   "source": [
    "import requests\n",
    "from pprint import pprint"
   ]
  },
  {
   "cell_type": "code",
   "execution_count": 142,
   "metadata": {},
   "outputs": [
    {
     "name": "stdout",
     "output_type": "stream",
     "text": [
      "<Response [200]>\n",
      "[{'recipient_id': 'tdsxsvctzx5', 'text': '不好意思，能把你的诉求再说的清楚一点吗'},\n",
      " {'api_exception': 0,\n",
      "  'last_message': {'confidence': 0.6318,\n",
      "                   'exact_hit': False,\n",
      "                   'input_channel': 'callassist',\n",
      "                   'intent_name': 'angry',\n",
      "                   'slots': {},\n",
      "                   'text': '我太生气了',\n",
      "                   'top2_diff': 0.5486},\n",
      "  'recipient_id': 'tdsxsvctzx5',\n",
      "  'story': 'faq'}]\n"
     ]
    }
   ],
   "source": [
    "url = 'http://localhost:5006/webhooks/callassist/webhook'\n",
    "data = {\n",
    "  \"sender\": \"tdsxsvctzx5\",  \n",
    "  # \"message\": \"servicer：好的\"\n",
    "  # \"message\": \"servicer：单号是多少\"\n",
    "  # \"message\": \"你好，我的快递什么时候到\"\n",
    "  \"message\": \"我太生气了\"\n",
    "  # \"message\": \"你好，我的快递到哪了\"\n",
    "  # \"message\": \"快递签收了吗\"\n",
    "  # \"message\": \"单号是YT1234\"\n",
    "  # \"message\": \"抓紧吧，我都找你们几次了？。\"\n",
    "  # \"message\": \"五六七八九零一二三\"\n",
    "  # \"message\": \"53698 yt 2515619553698\"\n",
    "  # ,\"metadata\" :{'express_id':\"YT1234567890125\"}\n",
    "}\n",
    "res = requests.post(url, json=data)\n",
    "pprint(res)\n",
    "# pprint(res.text)\n",
    "d = res.json()\n",
    "pprint(d)"
   ]
  },
  {
   "cell_type": "code",
   "execution_count": 10,
   "metadata": {},
   "outputs": [
    {
     "data": {
      "text/plain": [
       "{'event': 'action',\n",
       " 'name': 'action_listen',\n",
       " 'policy': None,\n",
       " 'confidence': None,\n",
       " 'timestamp': None}"
      ]
     },
     "execution_count": 10,
     "metadata": {},
     "output_type": "execute_result"
    }
   ],
   "source": [
    "from rasa_sdk.events import (\n",
    "    ActionExecuted,\n",
    "    SlotSet,\n",
    "    SessionStarted,\n",
    ")\n",
    "\n",
    "evt = SlotSet(key = \"name\", value = \"Mary\")\n",
    "evt = ActionExecuted('action_listen')\n",
    "\n",
    "evt"
   ]
  },
  {
   "cell_type": "code",
   "execution_count": 123,
   "metadata": {},
   "outputs": [
    {
     "name": "stdout",
     "output_type": "stream",
     "text": [
      "<Response [200]>\n",
      "[{'api_exception': 0,\n",
      "  'last_message': {'confidence': 0.9378,\n",
      "                   'exact_hit': False,\n",
      "                   'input_channel': 'callassist',\n",
      "                   'intent_name': 'inform',\n",
      "                   'slots': {},\n",
      "                   'text': '五六七八九零一二三',\n",
      "                   'top2_diff': 0.9285},\n",
      "  'recipient_id': 'tst132640056465',\n",
      "  'story': 'faq'}]\n"
     ]
    }
   ],
   "source": [
    "# url = 'http://10.130.118.125:5005/webhooks/wdgj/webhook'\n",
    "url = 'http://10.130.118.125:5006/webhooks/callassist/webhook'\n",
    "data = {\n",
    "  \"sender\": \"tst132640056465\",  \n",
    "  # \"message\": \"servicer：好的\"\n",
    "  # \"message\": \"servicer：单号是多少\"\n",
    "  # \"message\": \"40\"\n",
    "  # \"message\": \"1237\"\n",
    "  # \"message\": \"呃如果是一个件退回，可能是有问题，如果两个件都退回了的话，我们需要帮您去核实到底是哪里出了问题，尽快给您处理，给您回电啊。\"\n",
    "  # \"message\": \"我的单号是YT一二三四\"\n",
    "  # \"message\": \"五六七八\"\n",
    "  \"message\": \"五六七八九零一二三\"\n",
    "  # ,\"metadata\" :{'express_id':\"YT1234567890123\"}\n",
    "}\n",
    "res = requests.post(url, json=data)\n",
    "pprint(res)\n",
    "# pprint(res.text)\n",
    "d = res.json()\n",
    "pprint(d)"
   ]
  },
  {
   "cell_type": "code",
   "execution_count": 35,
   "metadata": {},
   "outputs": [],
   "source": [
    "import re\n",
    "repat_numbers = re.compile(r\"[零令林一幺妖二两三四五六七八九]{3,}\")"
   ]
  },
  {
   "cell_type": "code",
   "execution_count": 86,
   "metadata": {},
   "outputs": [
    {
     "name": "stdout",
     "output_type": "stream",
     "text": [
      "二三九\n"
     ]
    }
   ],
   "source": [
    "mt = repat_numbers.search(\"二三九\")\n",
    "print(mt.group())"
   ]
  },
  {
   "cell_type": "code",
   "execution_count": null,
   "metadata": {},
   "outputs": [],
   "source": [
    "repat_numbers = re.compile(\"\\\\d{13}(?!\\\\d)\")\n",
    "mt = repat_numbers.search(\"12345678901234\")\n",
    "print(mt)"
   ]
  },
  {
   "cell_type": "code",
   "execution_count": 57,
   "metadata": {},
   "outputs": [
    {
     "name": "stdout",
     "output_type": "stream",
     "text": [
      "<re.Match object; span=(3, 7), match='q  w'>\n"
     ]
    },
    {
     "data": {
      "text/plain": [
       "<re.Match object; span=(0, 13), match='1234567890123'>"
      ]
     },
     "execution_count": 57,
     "metadata": {},
     "output_type": "execute_result"
    }
   ],
   "source": [
    "print(re.search('q\\s+w', 'dddq  wer'))\n",
    "express_id_pat4 = re.compile(\"(?<!\\\\d)\\\\d{13}(?!\\\\d)\")\n",
    "express_id_pat4.search('1234567890123')"
   ]
  },
  {
   "cell_type": "markdown",
   "metadata": {},
   "source": [
    "''"
   ]
  },
  {
   "cell_type": "code",
   "execution_count": 2,
   "metadata": {},
   "outputs": [],
   "source": [
    "import jieba\n",
    "import jieba.posseg as pseg"
   ]
  },
  {
   "cell_type": "code",
   "execution_count": 88,
   "metadata": {},
   "outputs": [
    {
     "data": {
      "text/plain": [
       "[pair('0666', 'm')]"
      ]
     },
     "execution_count": 88,
     "metadata": {},
     "output_type": "execute_result"
    }
   ],
   "source": [
    "pseg.lcut('0666')"
   ]
  },
  {
   "cell_type": "code",
   "execution_count": 55,
   "metadata": {},
   "outputs": [
    {
     "data": {
      "text/plain": [
       "{' ': ''}"
      ]
     },
     "execution_count": 55,
     "metadata": {},
     "output_type": "execute_result"
    }
   ],
   "source": [
    "d = {}\n",
    "d[' '] = \"\"\n",
    "d = [1,2,3]\n",
    "d.pop()"
   ]
  }
 ],
 "metadata": {
  "kernelspec": {
   "display_name": "base",
   "language": "python",
   "name": "python3"
  },
  "language_info": {
   "codemirror_mode": {
    "name": "ipython",
    "version": 3
   },
   "file_extension": ".py",
   "mimetype": "text/x-python",
   "name": "python",
   "nbconvert_exporter": "python",
   "pygments_lexer": "ipython3",
   "version": "3.9.18"
  }
 },
 "nbformat": 4,
 "nbformat_minor": 2
}
