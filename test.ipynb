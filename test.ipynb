{
 "cells": [
  {
   "cell_type": "code",
   "execution_count": 30,
   "metadata": {},
   "outputs": [],
   "source": [
    "import requests\n",
    "from pprint import pprint"
   ]
  },
  {
   "cell_type": "code",
   "execution_count": 289,
   "metadata": {},
   "outputs": [
    {
     "name": "stdout",
     "output_type": "stream",
     "text": [
      "<Response [200]>\n",
      "[{'recipient_id': '13e9465', 'text': '非常抱歉，我们的工作没有做好，给您带来不好的服务体验'},\n",
      " {'recipient_id': '13e9465', 'text': '您好，麻烦您提供一下10、12或YT+13位数的圆通运单号码，我帮您看一下。'},\n",
      " {'api_exception': 0,\n",
      "  'last_message': {'confidence': 0.9924,\n",
      "                   'exact_hit': False,\n",
      "                   'input_channel': 'callassist',\n",
      "                   'intent_name': 'check_express_status',\n",
      "                   'slots': {},\n",
      "                   'text': '我的快递到哪了',\n",
      "                   'top2_diff': 0.9919},\n",
      "  'recipient_id': '13e9465',\n",
      "  'story': 'faq'}]\n"
     ]
    }
   ],
   "source": [
    "url = 'http://localhost:5006/webhooks/callassist/webhook'\n",
    "data = {\n",
    "  \"sender\": \"13e9465\",  \n",
    "  # \"message\": \"servicer：好的\"\n",
    "  # \"message\": \"servicer：单号是多少\"\n",
    "  \"message\": \"我的快递到哪了\"\n",
    "  # \"message\": \"这个寄的是什么,中通比你们好多了\"\n",
    "  # \"message\": \"我的单号是YT一二三四\"\n",
    "  # \"message\": \"喂，你好，我向你投诉。\"\n",
    "  # \"message\": \"五六七八九零一二三\"\n",
    "  # ,\"metadata\" :{'express_id':\"YT1234567890123\"}\n",
    "}\n",
    "res = requests.post(url, json=data)\n",
    "pprint(res)\n",
    "# pprint(res.text)\n",
    "d = res.json()\n",
    "pprint(d)"
   ]
  },
  {
   "cell_type": "code",
   "execution_count": 10,
   "metadata": {},
   "outputs": [
    {
     "data": {
      "text/plain": [
       "{'event': 'action',\n",
       " 'name': 'action_listen',\n",
       " 'policy': None,\n",
       " 'confidence': None,\n",
       " 'timestamp': None}"
      ]
     },
     "execution_count": 10,
     "metadata": {},
     "output_type": "execute_result"
    }
   ],
   "source": [
    "from rasa_sdk.events import (\n",
    "    ActionExecuted,\n",
    "    SlotSet,\n",
    "    SessionStarted,\n",
    ")\n",
    "\n",
    "evt = SlotSet(key = \"name\", value = \"Mary\")\n",
    "evt = ActionExecuted('action_listen')\n",
    "\n",
    "evt"
   ]
  },
  {
   "cell_type": "code",
   "execution_count": 278,
   "metadata": {},
   "outputs": [
    {
     "name": "stdout",
     "output_type": "stream",
     "text": [
      "<Response [200]>\n",
      "[{'api_exception': 0,\n",
      "  'last_message': {'confidence': 0.9075,\n",
      "                   'exact_hit': False,\n",
      "                   'input_channel': 'callassist',\n",
      "                   'intent_name': 'inform',\n",
      "                   'slots': {},\n",
      "                   'text': '五六七八',\n",
      "                   'top2_diff': 0.8855},\n",
      "  'recipient_id': '13e946u6645465',\n",
      "  'story': 'faq'}]\n"
     ]
    }
   ],
   "source": [
    "# url = 'http://10.130.118.125:5005/webhooks/wdgj/webhook'\n",
    "url = 'http://10.130.118.125:5006/webhooks/callassist/webhook'\n",
    "data = {\n",
    "  \"sender\": \"13e946u6645465\",  \n",
    "  # \"message\": \"servicer：好的\"\n",
    "  # \"message\": \"servicer：单号是多少\"\n",
    "  # \"message\": \"40\"\n",
    "  # \"message\": \"这个寄的是什么\"\n",
    "  # \"message\": \"我的单号是YT一二三四\"\n",
    "  # \"message\": \"五六七八\"\n",
    "  # \"message\": \"五六七八九零一二三\"\n",
    "  # ,\"metadata\" :{'express_id':\"YT1234567890123\"}\n",
    "}\n",
    "res = requests.post(url, json=data)\n",
    "pprint(res)\n",
    "# pprint(res.text)\n",
    "d = res.json()\n",
    "pprint(d)"
   ]
  },
  {
   "cell_type": "code",
   "execution_count": 35,
   "metadata": {},
   "outputs": [],
   "source": [
    "import re\n",
    "repat_numbers = re.compile(r\"[零令林一幺妖二两三四五六七八九]{3,}\")"
   ]
  },
  {
   "cell_type": "code",
   "execution_count": 86,
   "metadata": {},
   "outputs": [
    {
     "name": "stdout",
     "output_type": "stream",
     "text": [
      "二三九\n"
     ]
    }
   ],
   "source": [
    "mt = repat_numbers.search(\"二三九\")\n",
    "print(mt.group())"
   ]
  },
  {
   "cell_type": "code",
   "execution_count": null,
   "metadata": {},
   "outputs": [],
   "source": [
    "repat_numbers = re.compile(\"\\\\d{13}(?!\\\\d)\")\n",
    "mt = repat_numbers.search(\"12345678901234\")\n",
    "print(mt)"
   ]
  },
  {
   "cell_type": "code",
   "execution_count": 57,
   "metadata": {},
   "outputs": [
    {
     "name": "stdout",
     "output_type": "stream",
     "text": [
      "<re.Match object; span=(3, 7), match='q  w'>\n"
     ]
    },
    {
     "data": {
      "text/plain": [
       "<re.Match object; span=(0, 13), match='1234567890123'>"
      ]
     },
     "execution_count": 57,
     "metadata": {},
     "output_type": "execute_result"
    }
   ],
   "source": [
    "print(re.search('q\\s+w', 'dddq  wer'))\n",
    "express_id_pat4 = re.compile(\"(?<!\\\\d)\\\\d{13}(?!\\\\d)\")\n",
    "express_id_pat4.search('1234567890123')"
   ]
  },
  {
   "cell_type": "markdown",
   "metadata": {},
   "source": [
    "''"
   ]
  },
  {
   "cell_type": "code",
   "execution_count": 2,
   "metadata": {},
   "outputs": [],
   "source": [
    "import jieba\n",
    "import jieba.posseg as pseg"
   ]
  },
  {
   "cell_type": "code",
   "execution_count": 88,
   "metadata": {},
   "outputs": [
    {
     "data": {
      "text/plain": [
       "[pair('0666', 'm')]"
      ]
     },
     "execution_count": 88,
     "metadata": {},
     "output_type": "execute_result"
    }
   ],
   "source": [
    "pseg.lcut('0666')"
   ]
  },
  {
   "cell_type": "code",
   "execution_count": 55,
   "metadata": {},
   "outputs": [
    {
     "data": {
      "text/plain": [
       "{' ': ''}"
      ]
     },
     "execution_count": 55,
     "metadata": {},
     "output_type": "execute_result"
    }
   ],
   "source": [
    "d = {}\n",
    "d[' '] = \"\"\n",
    "d = [1,2,3]\n",
    "d.pop()"
   ]
  }
 ],
 "metadata": {
  "kernelspec": {
   "display_name": "base",
   "language": "python",
   "name": "python3"
  },
  "language_info": {
   "codemirror_mode": {
    "name": "ipython",
    "version": 3
   },
   "file_extension": ".py",
   "mimetype": "text/x-python",
   "name": "python",
   "nbconvert_exporter": "python",
   "pygments_lexer": "ipython3",
   "version": "3.9.18"
  }
 },
 "nbformat": 4,
 "nbformat_minor": 2
}
